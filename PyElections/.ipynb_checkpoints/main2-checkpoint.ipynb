{
 "cells": [
  {
   "cell_type": "code",
   "execution_count": 10,
   "metadata": {},
   "outputs": [
    {
     "name": "stdout",
     "output_type": "stream",
     "text": [
      "Houston Mayoral Election Results\n",
      "---------------------------------------------\n",
      "Total Cast Votes: 237772\n",
      "---------------------------------------------\n",
      "Bill King: 14.00% (33281)\n",
      "Sylvester Turner: 46.37% (110246)\n",
      "Tony Buzbee: 28.79% (68463)\n",
      "Dwight A. Boykins: 5.89% (14014)\n",
      "Victoria Romero: 1.22% (2907)\n",
      "Roy J. Vasquez: 0.65% (1536)\n",
      "Demetria Smith: 0.71% (1677)\n",
      "Sue Lovell: 1.22% (2904)\n",
      "Derrick Broze: 0.28% (672)\n",
      "Kendall Baker: 0.41% (970)\n",
      "Johnny “J.T.” Taylor: 0.23% (548)\n",
      "Naoufal Houjami: 0.23% (554)\n",
      "---------------------------------------------\n",
      "1st Advancing Candidate: Sylvester Turner\n",
      "2nd Advancing Candidate: Tony Buzbee\n",
      "---------------------------------------------\n"
     ]
    }
   ],
   "source": [
    "#Modules\n",
    "#Open the CSV\n",
    "import os\n",
    "import csv\n",
    "#set path for file\n",
    "csvpath = os.getcwd()+\"\\houston_election_data.csv\"\n",
    "\n",
    "#Create a dictionary from the CSV file\n",
    "Dict_Election = {}\n",
    "    \n",
    "with open(csvpath, encoding = 'utf-8') as csvfile:\n",
    "    csvreader = csv.reader(csvfile, delimiter=\",\")\n",
    "\n",
    "# Read the header row first    \n",
    "    csv_header = next(csvreader)\n",
    "    \n",
    "#Read each row after the header\n",
    "    next(csvreader)    \n",
    "    for row in csvreader:\n",
    "        Dict_Election[row[2]] = [row[0], row[1]]\n",
    "\n",
    "voters = set(Dict_Election.keys())\n",
    "voters_total = len(voters)\n",
    "\n",
    "print(\"Houston Mayoral Election Results\")\n",
    "print(\"-\" * 45)\n",
    "print(\"Total Cast Votes: {}\".format(voters_total))\n",
    "print(\"-\" * 45)\n",
    "\n",
    "dict_total_votes = {}\n",
    "for key, value in Dict_Election.items():\n",
    "    if Dict_Election[key][0] not in dict_total_votes:\n",
    "        dict_total_votes[Dict_Election[key][0]] = 1\n",
    "    else:\n",
    "        dict_total_votes[Dict_Election[key][0]] += 1\n",
    "\n",
    "for key, value in dict_total_votes.items():\n",
    "    average_percentage = (value / voters_total) * 100\n",
    "    print(\"{}: {:0.2f}% ({})\".format(key, average_percentage, value))\n",
    "\n",
    "print(\"-\" * 45)\n",
    "\n",
    "maximum_votes = max(dict_total_votes.values())\n",
    "second_maximum_votes = 0\n",
    "\n",
    "for key, value in dict_total_votes.items():\n",
    "    if value > second_maximum_votes and value < maximum_votes:\n",
    "        second_maximum_votes = value\n",
    "\n",
    "for key, value in dict_total_votes.items():\n",
    "    if maximum_votes == value:\n",
    "        first_advancing = key\n",
    "    elif second_maximum_votes == value:\n",
    "        second_advancing = key\n",
    "        \n",
    "print(\"1st Advancing Candidate: {}\".format(first_advancing))\n",
    "print(\"2nd Advancing Candidate: {}\".format(second_advancing))\n",
    "print(\"-\" * 45)"
   ]
  },
  {
   "cell_type": "code",
   "execution_count": null,
   "metadata": {},
   "outputs": [],
   "source": []
  }
 ],
 "metadata": {
  "kernelspec": {
   "display_name": "Python 3",
   "language": "python",
   "name": "python3"
  },
  "language_info": {
   "codemirror_mode": {
    "name": "ipython",
    "version": 3
   },
   "file_extension": ".py",
   "mimetype": "text/x-python",
   "name": "python",
   "nbconvert_exporter": "python",
   "pygments_lexer": "ipython3",
   "version": "3.7.4"
  }
 },
 "nbformat": 4,
 "nbformat_minor": 2
}
